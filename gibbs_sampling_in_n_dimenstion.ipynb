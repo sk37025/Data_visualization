{
 "cells": [
  {
   "cell_type": "markdown",
   "metadata": {},
   "source": [
    "# 1. Gibbs Sampling\n",
    "\n",
    "- Gibbs Sampling은 __기존 데이터의 분포를 재현__ 하는 마르코프 체인 몬테 카를로 (MCMC: Markov-Chain Monte Carlo) 방식의 일환임 \n",
    "\n",
    "!<img src=\"img/img1_1.png\">"
   ]
  },
  {
   "cell_type": "markdown",
   "metadata": {},
   "source": [
    "위 그림처럼 $P(X,Y)$ 로 표현되는 다변수 함수를 모사한다고 가정"
   ]
  },
  {
   "cell_type": "markdown",
   "metadata": {},
   "source": [
    "$X$와 $Y$ 의 상관관계는 조건부확률 $P(X|Y)$ 와 $P(Y|X)$로부터 구할 수 있음 \n",
    "\n",
    "__Step__\n",
    "1. 시작점 $(X_0,Y_0)$을 지정  \n",
    "2. $p(X|Y_0)$으로부터 다음 데이터의 $X$인 $X_1$ 을 랜덤으로 추출 \n",
    "3. $p(Y|X_1)$으로부터 다음 데이터의 $Y$인 $Y_1$ 을 랜덤으로 추출\n",
    "4. 이렇게 $(X_1,Y_1)$을 구한 뒤 \n",
    "5. 이 작업을 n번 반복해서 $(X_n,Y_n)$ 을 구함 "
   ]
  },
  {
   "cell_type": "code",
   "execution_count": null,
   "metadata": {},
   "outputs": [],
   "source": []
  }
 ],
 "metadata": {
  "language_info": {
   "name": "python"
  },
  "orig_nbformat": 4
 },
 "nbformat": 4,
 "nbformat_minor": 2
}
